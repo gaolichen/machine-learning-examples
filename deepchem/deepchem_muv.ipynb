{
  "nbformat": 4,
  "nbformat_minor": 0,
  "metadata": {
    "colab": {
      "name": "deepchem-muv.ipynb",
      "provenance": [],
      "collapsed_sections": [],
      "authorship_tag": "ABX9TyOlrwB2go9ui2i70N4QyyOK",
      "include_colab_link": true
    },
    "kernelspec": {
      "display_name": "Python 3",
      "name": "python3"
    },
    "language_info": {
      "name": "python"
    },
    "accelerator": "GPU"
  },
  "cells": [
    {
      "cell_type": "markdown",
      "metadata": {
        "id": "view-in-github",
        "colab_type": "text"
      },
      "source": [
        "<a href=\"https://colab.research.google.com/github/gaolichen/machine-learning-examples/blob/main/deepchem/deepchem_muv.ipynb\" target=\"_parent\"><img src=\"https://colab.research.google.com/assets/colab-badge.svg\" alt=\"Open In Colab\"/></a>"
      ]
    },
    {
      "cell_type": "code",
      "metadata": {
        "colab": {
          "base_uri": "https://localhost:8080/"
        },
        "id": "B7i6BqTPBsDR",
        "outputId": "c0c69810-5c81-4238-f441-36946c8aa366"
      },
      "source": [
        "!python3 -m pip install rdkit-pypi"
      ],
      "execution_count": 30,
      "outputs": [
        {
          "output_type": "stream",
          "name": "stdout",
          "text": [
            "Requirement already satisfied: rdkit-pypi in /usr/local/lib/python3.7/dist-packages (2021.9.2.1)\n",
            "Requirement already satisfied: numpy>=1.19 in /usr/local/lib/python3.7/dist-packages (from rdkit-pypi) (1.19.5)\n"
          ]
        }
      ]
    },
    {
      "cell_type": "code",
      "metadata": {
        "id": "yuOZLuOkCU1V"
      },
      "source": [
        "\"\"\"\n",
        "Script that trains TF multitask models on MUV dataset.\n",
        "\"\"\"\n",
        "from __future__ import print_function\n",
        "from __future__ import division\n",
        "from __future__ import unicode_literals\n",
        "\n",
        "import os\n",
        "import numpy as np\n",
        "import shutil\n",
        "import matplotlib.pyplot as plt\n",
        "from muv_datasets import load_muv\n",
        "from graph_model import GraphConvModel\n",
        "import metrics\n",
        "import models\n",
        "import optimizers\n",
        "\n",
        "def get_featurizer(model_name):\n",
        "  if model_name == 'graphconv':\n",
        "    return 'graphconv'\n",
        "  else:\n",
        "    return 'ECFP'\n",
        "\n",
        "def create_model(model_name, n_tasks, batch_size = 64):\n",
        "  rate = optimizers.ExponentialDecay(0.001, 0.8, 1000)\n",
        "\n",
        "  if model_name == 'graphconv':\n",
        "    return GraphConvModel(\n",
        "        n_tasks,\n",
        "        learning_rate = rate,\n",
        "        batch_size=batch_size,\n",
        "        mode='classification')\n",
        "    \n",
        "  elif model_name == 'tf':\n",
        "    return models.MultitaskClassifier(\n",
        "        n_tasks,\n",
        "        n_features=1024,\n",
        "        dropouts=[.5],\n",
        "        layer_sizes = [100],\n",
        "        learning_rate=rate,\n",
        "        weight_init_stddevs=[.1], \n",
        "        batch_size=64,\n",
        "        verbosity=\"high\")\n",
        "  else:\n",
        "    return None  \n",
        "\n",
        "def run_muv(model_name, epochs = 10):\n",
        "    print('loading data')\n",
        "    # Load MUV data\n",
        "    np.random.seed(123)\n",
        "    muv_tasks, muv_datasets, transformers = load_muv(\n",
        "        splitter='stratified',\n",
        "        featurizer=get_featurizer(model_name))\n",
        "    train_dataset, valid_dataset, test_dataset = muv_datasets\n",
        "\n",
        "    print('building model')\n",
        "    model = create_model(model_name, len(muv_tasks))\n",
        "\n",
        "    print('fitting...')\n",
        "    # Fit trained model\n",
        "    %time loss = model.fit(train_dataset, nb_epoch=epochs)\n",
        "    #print(f'loss={loss}')\n",
        "\n",
        "    metric = metrics.Metric(metrics.roc_auc_score, np.mean, mode=\"classification\")\n",
        "    # Evaluate train/test scores\n",
        "    print('evaluating...')\n",
        "    train_scores = model.evaluate(train_dataset, [metric], transformers)\n",
        "    valid_scores = model.evaluate(valid_dataset, [metric], transformers)\n",
        "    test_scores = model.evaluate(test_dataset, [metric], transformers)\n",
        "    return train_scores, valid_scores, test_scores\n",
        "\n",
        "def plot_muv_scores(scores):\n",
        "    plt.rcdefaults()\n",
        "    fig, ax = plt.subplots()\n",
        "    model_names = list(scores.keys())\n",
        "    roc_auc = [scores[name] for name in model_names]\n",
        "\n",
        "    y_pos = np.arange(len(model_names))\n",
        "\n",
        "    ax.barh(y_pos, roc_auc, align='center')\n",
        "    ax.set_yticks(y_pos)\n",
        "    ax.set_yticklabels(model_names)\n",
        "    ax.invert_yaxis()  # labels read top-to-bottom\n",
        "    ax.set_xlabel('roc-auc')\n",
        "    ax.set_xticks([i*0.1 for i in range(11)])\n",
        "    ax.set_title('Performance on muv')\n",
        "    \n",
        "    for i, v in enumerate(roc_auc):\n",
        "      ax.text(v + 0.01, i + .1, str(round(v, 3)), color='blue', fontweight='bold')\n",
        "\n",
        "    plt.show()"
      ],
      "execution_count": 31,
      "outputs": []
    },
    {
      "cell_type": "code",
      "metadata": {
        "colab": {
          "base_uri": "https://localhost:8080/"
        },
        "id": "rx8FugbQCZmh",
        "outputId": "dff4938e-0931-4d71-c54d-a932c8c253e7"
      },
      "source": [
        "train_scores_tf, valid_scores_tf, test_scores_tf = run_muv('tf', epochs = 2)\n",
        "print('tf Train scores', train_scores_tf)\n",
        "print('tf Validation scores', valid_scores_tf)\n",
        "print('tf Test scores', test_scores_tf)\n"
      ],
      "execution_count": 32,
      "outputs": [
        {
          "output_type": "stream",
          "name": "stdout",
          "text": [
            "loading data\n",
            "save_folder= ./muv-featurized/CircularFingerprint_size_1024/RandomStratifiedSplitter\n",
            "save_dir= ./muv-featurized/CircularFingerprint_size_1024/RandomStratifiedSplitter/BalancingTransformer\n",
            "building model\n",
            "fitting...\n",
            "CPU times: user 4.82 s, sys: 666 ms, total: 5.49 s\n",
            "Wall time: 4.82 s\n",
            "evaluating...\n",
            "tf Train scores {'mean-roc_auc_score': 0.9815336055203626}\n",
            "tf Validation scores {'mean-roc_auc_score': 0.7079894479200993}\n",
            "tf Test scores {'mean-roc_auc_score': 0.6255126565668305}\n"
          ]
        }
      ]
    },
    {
      "cell_type": "code",
      "metadata": {
        "colab": {
          "base_uri": "https://localhost:8080/"
        },
        "id": "a2ZMUiIVCaCD",
        "outputId": "a6d2c155-8863-49dd-a877-81bfbff86329"
      },
      "source": [
        "train_scores_gc, valid_scores_gc, test_scores_gc = run_muv('graphconv', epochs = 10)\n",
        "print('graphconv Train scores', train_scores_gc)\n",
        "print('graphconv Validation scores', valid_scores_gc)\n",
        "print('graphconv Test scores', test_scores_gc)\n"
      ],
      "execution_count": 33,
      "outputs": [
        {
          "output_type": "stream",
          "name": "stdout",
          "text": [
            "loading data\n",
            "save_folder= ./muv-featurized/ConvMolFeaturizer/RandomStratifiedSplitter\n",
            "save_dir= ./muv-featurized/ConvMolFeaturizer/RandomStratifiedSplitter/BalancingTransformer\n",
            "building model\n",
            "fitting...\n"
          ]
        },
        {
          "output_type": "stream",
          "name": "stderr",
          "text": [
            "/usr/local/lib/python3.7/dist-packages/tensorflow/python/framework/indexed_slices.py:450: UserWarning: Converting sparse IndexedSlices(IndexedSlices(indices=Tensor(\"gradient_tape/private__graph_conv_keras_model_4/graph_pool_9/Reshape_14:0\", shape=(253,), dtype=int32), values=Tensor(\"gradient_tape/private__graph_conv_keras_model_4/graph_pool_9/Reshape_13:0\", shape=(253, 64), dtype=float32), dense_shape=Tensor(\"gradient_tape/private__graph_conv_keras_model_4/graph_pool_9/Cast_4:0\", shape=(2,), dtype=int32))) to a dense Tensor of unknown shape. This may consume a large amount of memory.\n",
            "  \"shape. This may consume a large amount of memory.\" % value)\n",
            "/usr/local/lib/python3.7/dist-packages/tensorflow/python/framework/indexed_slices.py:450: UserWarning: Converting sparse IndexedSlices(IndexedSlices(indices=Tensor(\"gradient_tape/private__graph_conv_keras_model_4/graph_pool_9/Reshape_17:0\", shape=(1674,), dtype=int32), values=Tensor(\"gradient_tape/private__graph_conv_keras_model_4/graph_pool_9/Reshape_16:0\", shape=(1674, 64), dtype=float32), dense_shape=Tensor(\"gradient_tape/private__graph_conv_keras_model_4/graph_pool_9/Cast_5:0\", shape=(2,), dtype=int32))) to a dense Tensor of unknown shape. This may consume a large amount of memory.\n",
            "  \"shape. This may consume a large amount of memory.\" % value)\n",
            "/usr/local/lib/python3.7/dist-packages/tensorflow/python/framework/indexed_slices.py:450: UserWarning: Converting sparse IndexedSlices(IndexedSlices(indices=Tensor(\"gradient_tape/private__graph_conv_keras_model_4/graph_pool_9/Reshape_20:0\", shape=(1413,), dtype=int32), values=Tensor(\"gradient_tape/private__graph_conv_keras_model_4/graph_pool_9/Reshape_19:0\", shape=(1413, 64), dtype=float32), dense_shape=Tensor(\"gradient_tape/private__graph_conv_keras_model_4/graph_pool_9/Cast_6:0\", shape=(2,), dtype=int32))) to a dense Tensor of unknown shape. This may consume a large amount of memory.\n",
            "  \"shape. This may consume a large amount of memory.\" % value)\n",
            "/usr/local/lib/python3.7/dist-packages/tensorflow/python/framework/indexed_slices.py:450: UserWarning: Converting sparse IndexedSlices(IndexedSlices(indices=Tensor(\"gradient_tape/private__graph_conv_keras_model_4/graph_pool_9/Reshape_23:0\", shape=(76,), dtype=int32), values=Tensor(\"gradient_tape/private__graph_conv_keras_model_4/graph_pool_9/Reshape_22:0\", shape=(76, 64), dtype=float32), dense_shape=Tensor(\"gradient_tape/private__graph_conv_keras_model_4/graph_pool_9/Cast_7:0\", shape=(2,), dtype=int32))) to a dense Tensor of unknown shape. This may consume a large amount of memory.\n",
            "  \"shape. This may consume a large amount of memory.\" % value)\n",
            "/usr/local/lib/python3.7/dist-packages/tensorflow/python/framework/indexed_slices.py:450: UserWarning: Converting sparse IndexedSlices(IndexedSlices(indices=Tensor(\"gradient_tape/private__graph_conv_keras_model_4/graph_conv_9/Reshape_11:0\", shape=(253,), dtype=int32), values=Tensor(\"gradient_tape/private__graph_conv_keras_model_4/graph_conv_9/Reshape_10:0\", shape=(253, 64), dtype=float32), dense_shape=Tensor(\"gradient_tape/private__graph_conv_keras_model_4/graph_conv_9/Cast:0\", shape=(2,), dtype=int32))) to a dense Tensor of unknown shape. This may consume a large amount of memory.\n",
            "  \"shape. This may consume a large amount of memory.\" % value)\n",
            "/usr/local/lib/python3.7/dist-packages/tensorflow/python/framework/indexed_slices.py:450: UserWarning: Converting sparse IndexedSlices(IndexedSlices(indices=Tensor(\"gradient_tape/private__graph_conv_keras_model_4/graph_conv_9/Reshape_13:0\", shape=(1674,), dtype=int32), values=Tensor(\"gradient_tape/private__graph_conv_keras_model_4/graph_conv_9/Reshape_12:0\", shape=(1674, 64), dtype=float32), dense_shape=Tensor(\"gradient_tape/private__graph_conv_keras_model_4/graph_conv_9/Cast_1:0\", shape=(2,), dtype=int32))) to a dense Tensor of unknown shape. This may consume a large amount of memory.\n",
            "  \"shape. This may consume a large amount of memory.\" % value)\n",
            "/usr/local/lib/python3.7/dist-packages/tensorflow/python/framework/indexed_slices.py:450: UserWarning: Converting sparse IndexedSlices(IndexedSlices(indices=Tensor(\"gradient_tape/private__graph_conv_keras_model_4/graph_conv_9/Reshape_15:0\", shape=(1413,), dtype=int32), values=Tensor(\"gradient_tape/private__graph_conv_keras_model_4/graph_conv_9/Reshape_14:0\", shape=(1413, 64), dtype=float32), dense_shape=Tensor(\"gradient_tape/private__graph_conv_keras_model_4/graph_conv_9/Cast_2:0\", shape=(2,), dtype=int32))) to a dense Tensor of unknown shape. This may consume a large amount of memory.\n",
            "  \"shape. This may consume a large amount of memory.\" % value)\n",
            "/usr/local/lib/python3.7/dist-packages/tensorflow/python/framework/indexed_slices.py:450: UserWarning: Converting sparse IndexedSlices(IndexedSlices(indices=Tensor(\"gradient_tape/private__graph_conv_keras_model_4/graph_conv_9/Reshape_17:0\", shape=(76,), dtype=int32), values=Tensor(\"gradient_tape/private__graph_conv_keras_model_4/graph_conv_9/Reshape_16:0\", shape=(76, 64), dtype=float32), dense_shape=Tensor(\"gradient_tape/private__graph_conv_keras_model_4/graph_conv_9/Cast_3:0\", shape=(2,), dtype=int32))) to a dense Tensor of unknown shape. This may consume a large amount of memory.\n",
            "  \"shape. This may consume a large amount of memory.\" % value)\n",
            "/usr/local/lib/python3.7/dist-packages/tensorflow/python/framework/indexed_slices.py:450: UserWarning: Converting sparse IndexedSlices(IndexedSlices(indices=Tensor(\"gradient_tape/private__graph_conv_keras_model_4/graph_conv_9/Reshape_19:0\", shape=(0,), dtype=int32), values=Tensor(\"gradient_tape/private__graph_conv_keras_model_4/graph_conv_9/Reshape_18:0\", shape=(0, 64), dtype=float32), dense_shape=Tensor(\"gradient_tape/private__graph_conv_keras_model_4/graph_conv_9/Cast_4:0\", shape=(2,), dtype=int32))) to a dense Tensor of unknown shape. This may consume a large amount of memory.\n",
            "  \"shape. This may consume a large amount of memory.\" % value)\n",
            "/usr/local/lib/python3.7/dist-packages/tensorflow/python/framework/indexed_slices.py:450: UserWarning: Converting sparse IndexedSlices(IndexedSlices(indices=Tensor(\"gradient_tape/private__graph_conv_keras_model_4/graph_conv_9/Reshape_21:0\", shape=(0,), dtype=int32), values=Tensor(\"gradient_tape/private__graph_conv_keras_model_4/graph_conv_9/Reshape_20:0\", shape=(0, 64), dtype=float32), dense_shape=Tensor(\"gradient_tape/private__graph_conv_keras_model_4/graph_conv_9/Cast_5:0\", shape=(2,), dtype=int32))) to a dense Tensor of unknown shape. This may consume a large amount of memory.\n",
            "  \"shape. This may consume a large amount of memory.\" % value)\n",
            "/usr/local/lib/python3.7/dist-packages/tensorflow/python/framework/indexed_slices.py:450: UserWarning: Converting sparse IndexedSlices(IndexedSlices(indices=Tensor(\"gradient_tape/private__graph_conv_keras_model_4/graph_conv_9/Reshape_23:0\", shape=(0,), dtype=int32), values=Tensor(\"gradient_tape/private__graph_conv_keras_model_4/graph_conv_9/Reshape_22:0\", shape=(0, 64), dtype=float32), dense_shape=Tensor(\"gradient_tape/private__graph_conv_keras_model_4/graph_conv_9/Cast_6:0\", shape=(2,), dtype=int32))) to a dense Tensor of unknown shape. This may consume a large amount of memory.\n",
            "  \"shape. This may consume a large amount of memory.\" % value)\n",
            "/usr/local/lib/python3.7/dist-packages/tensorflow/python/framework/indexed_slices.py:450: UserWarning: Converting sparse IndexedSlices(IndexedSlices(indices=Tensor(\"gradient_tape/private__graph_conv_keras_model_4/graph_conv_9/Reshape_25:0\", shape=(0,), dtype=int32), values=Tensor(\"gradient_tape/private__graph_conv_keras_model_4/graph_conv_9/Reshape_24:0\", shape=(0, 64), dtype=float32), dense_shape=Tensor(\"gradient_tape/private__graph_conv_keras_model_4/graph_conv_9/Cast_7:0\", shape=(2,), dtype=int32))) to a dense Tensor of unknown shape. This may consume a large amount of memory.\n",
            "  \"shape. This may consume a large amount of memory.\" % value)\n",
            "/usr/local/lib/python3.7/dist-packages/tensorflow/python/framework/indexed_slices.py:450: UserWarning: Converting sparse IndexedSlices(IndexedSlices(indices=Tensor(\"gradient_tape/private__graph_conv_keras_model_4/graph_conv_9/Reshape_27:0\", shape=(0,), dtype=int32), values=Tensor(\"gradient_tape/private__graph_conv_keras_model_4/graph_conv_9/Reshape_26:0\", shape=(0, 64), dtype=float32), dense_shape=Tensor(\"gradient_tape/private__graph_conv_keras_model_4/graph_conv_9/Cast_8:0\", shape=(2,), dtype=int32))) to a dense Tensor of unknown shape. This may consume a large amount of memory.\n",
            "  \"shape. This may consume a large amount of memory.\" % value)\n",
            "/usr/local/lib/python3.7/dist-packages/tensorflow/python/framework/indexed_slices.py:450: UserWarning: Converting sparse IndexedSlices(IndexedSlices(indices=Tensor(\"gradient_tape/private__graph_conv_keras_model_4/graph_conv_9/Reshape_29:0\", shape=(0,), dtype=int32), values=Tensor(\"gradient_tape/private__graph_conv_keras_model_4/graph_conv_9/Reshape_28:0\", shape=(0, 64), dtype=float32), dense_shape=Tensor(\"gradient_tape/private__graph_conv_keras_model_4/graph_conv_9/Cast_9:0\", shape=(2,), dtype=int32))) to a dense Tensor of unknown shape. This may consume a large amount of memory.\n",
            "  \"shape. This may consume a large amount of memory.\" % value)\n",
            "/usr/local/lib/python3.7/dist-packages/tensorflow/python/framework/indexed_slices.py:450: UserWarning: Converting sparse IndexedSlices(IndexedSlices(indices=Tensor(\"gradient_tape/private__graph_conv_keras_model_4/graph_pool_8/Reshape_14:0\", shape=(253,), dtype=int32), values=Tensor(\"gradient_tape/private__graph_conv_keras_model_4/graph_pool_8/Reshape_13:0\", shape=(253, 64), dtype=float32), dense_shape=Tensor(\"gradient_tape/private__graph_conv_keras_model_4/graph_pool_8/Cast_4:0\", shape=(2,), dtype=int32))) to a dense Tensor of unknown shape. This may consume a large amount of memory.\n",
            "  \"shape. This may consume a large amount of memory.\" % value)\n",
            "/usr/local/lib/python3.7/dist-packages/tensorflow/python/framework/indexed_slices.py:450: UserWarning: Converting sparse IndexedSlices(IndexedSlices(indices=Tensor(\"gradient_tape/private__graph_conv_keras_model_4/graph_pool_8/Reshape_17:0\", shape=(1674,), dtype=int32), values=Tensor(\"gradient_tape/private__graph_conv_keras_model_4/graph_pool_8/Reshape_16:0\", shape=(1674, 64), dtype=float32), dense_shape=Tensor(\"gradient_tape/private__graph_conv_keras_model_4/graph_pool_8/Cast_5:0\", shape=(2,), dtype=int32))) to a dense Tensor of unknown shape. This may consume a large amount of memory.\n",
            "  \"shape. This may consume a large amount of memory.\" % value)\n",
            "/usr/local/lib/python3.7/dist-packages/tensorflow/python/framework/indexed_slices.py:450: UserWarning: Converting sparse IndexedSlices(IndexedSlices(indices=Tensor(\"gradient_tape/private__graph_conv_keras_model_4/graph_pool_8/Reshape_20:0\", shape=(1413,), dtype=int32), values=Tensor(\"gradient_tape/private__graph_conv_keras_model_4/graph_pool_8/Reshape_19:0\", shape=(1413, 64), dtype=float32), dense_shape=Tensor(\"gradient_tape/private__graph_conv_keras_model_4/graph_pool_8/Cast_6:0\", shape=(2,), dtype=int32))) to a dense Tensor of unknown shape. This may consume a large amount of memory.\n",
            "  \"shape. This may consume a large amount of memory.\" % value)\n",
            "/usr/local/lib/python3.7/dist-packages/tensorflow/python/framework/indexed_slices.py:450: UserWarning: Converting sparse IndexedSlices(IndexedSlices(indices=Tensor(\"gradient_tape/private__graph_conv_keras_model_4/graph_pool_8/Reshape_23:0\", shape=(76,), dtype=int32), values=Tensor(\"gradient_tape/private__graph_conv_keras_model_4/graph_pool_8/Reshape_22:0\", shape=(76, 64), dtype=float32), dense_shape=Tensor(\"gradient_tape/private__graph_conv_keras_model_4/graph_pool_8/Cast_7:0\", shape=(2,), dtype=int32))) to a dense Tensor of unknown shape. This may consume a large amount of memory.\n",
            "  \"shape. This may consume a large amount of memory.\" % value)\n",
            "/usr/local/lib/python3.7/dist-packages/tensorflow/python/framework/indexed_slices.py:450: UserWarning: Converting sparse IndexedSlices(IndexedSlices(indices=Tensor(\"gradient_tape/private__graph_conv_keras_model_4/graph_pool_9/Reshape_14:0\", shape=(245,), dtype=int32), values=Tensor(\"gradient_tape/private__graph_conv_keras_model_4/graph_pool_9/Reshape_13:0\", shape=(245, 64), dtype=float32), dense_shape=Tensor(\"gradient_tape/private__graph_conv_keras_model_4/graph_pool_9/Cast_4:0\", shape=(2,), dtype=int32))) to a dense Tensor of unknown shape. This may consume a large amount of memory.\n",
            "  \"shape. This may consume a large amount of memory.\" % value)\n",
            "/usr/local/lib/python3.7/dist-packages/tensorflow/python/framework/indexed_slices.py:450: UserWarning: Converting sparse IndexedSlices(IndexedSlices(indices=Tensor(\"gradient_tape/private__graph_conv_keras_model_4/graph_pool_9/Reshape_17:0\", shape=(1730,), dtype=int32), values=Tensor(\"gradient_tape/private__graph_conv_keras_model_4/graph_pool_9/Reshape_16:0\", shape=(1730, 64), dtype=float32), dense_shape=Tensor(\"gradient_tape/private__graph_conv_keras_model_4/graph_pool_9/Cast_5:0\", shape=(2,), dtype=int32))) to a dense Tensor of unknown shape. This may consume a large amount of memory.\n",
            "  \"shape. This may consume a large amount of memory.\" % value)\n",
            "/usr/local/lib/python3.7/dist-packages/tensorflow/python/framework/indexed_slices.py:450: UserWarning: Converting sparse IndexedSlices(IndexedSlices(indices=Tensor(\"gradient_tape/private__graph_conv_keras_model_4/graph_pool_9/Reshape_20:0\", shape=(1395,), dtype=int32), values=Tensor(\"gradient_tape/private__graph_conv_keras_model_4/graph_pool_9/Reshape_19:0\", shape=(1395, 64), dtype=float32), dense_shape=Tensor(\"gradient_tape/private__graph_conv_keras_model_4/graph_pool_9/Cast_6:0\", shape=(2,), dtype=int32))) to a dense Tensor of unknown shape. This may consume a large amount of memory.\n",
            "  \"shape. This may consume a large amount of memory.\" % value)\n",
            "/usr/local/lib/python3.7/dist-packages/tensorflow/python/framework/indexed_slices.py:450: UserWarning: Converting sparse IndexedSlices(IndexedSlices(indices=Tensor(\"gradient_tape/private__graph_conv_keras_model_4/graph_conv_9/Reshape_11:0\", shape=(245,), dtype=int32), values=Tensor(\"gradient_tape/private__graph_conv_keras_model_4/graph_conv_9/Reshape_10:0\", shape=(245, 64), dtype=float32), dense_shape=Tensor(\"gradient_tape/private__graph_conv_keras_model_4/graph_conv_9/Cast:0\", shape=(2,), dtype=int32))) to a dense Tensor of unknown shape. This may consume a large amount of memory.\n",
            "  \"shape. This may consume a large amount of memory.\" % value)\n",
            "/usr/local/lib/python3.7/dist-packages/tensorflow/python/framework/indexed_slices.py:450: UserWarning: Converting sparse IndexedSlices(IndexedSlices(indices=Tensor(\"gradient_tape/private__graph_conv_keras_model_4/graph_conv_9/Reshape_13:0\", shape=(1730,), dtype=int32), values=Tensor(\"gradient_tape/private__graph_conv_keras_model_4/graph_conv_9/Reshape_12:0\", shape=(1730, 64), dtype=float32), dense_shape=Tensor(\"gradient_tape/private__graph_conv_keras_model_4/graph_conv_9/Cast_1:0\", shape=(2,), dtype=int32))) to a dense Tensor of unknown shape. This may consume a large amount of memory.\n",
            "  \"shape. This may consume a large amount of memory.\" % value)\n",
            "/usr/local/lib/python3.7/dist-packages/tensorflow/python/framework/indexed_slices.py:450: UserWarning: Converting sparse IndexedSlices(IndexedSlices(indices=Tensor(\"gradient_tape/private__graph_conv_keras_model_4/graph_conv_9/Reshape_15:0\", shape=(1395,), dtype=int32), values=Tensor(\"gradient_tape/private__graph_conv_keras_model_4/graph_conv_9/Reshape_14:0\", shape=(1395, 64), dtype=float32), dense_shape=Tensor(\"gradient_tape/private__graph_conv_keras_model_4/graph_conv_9/Cast_2:0\", shape=(2,), dtype=int32))) to a dense Tensor of unknown shape. This may consume a large amount of memory.\n",
            "  \"shape. This may consume a large amount of memory.\" % value)\n",
            "/usr/local/lib/python3.7/dist-packages/tensorflow/python/framework/indexed_slices.py:450: UserWarning: Converting sparse IndexedSlices(IndexedSlices(indices=Tensor(\"gradient_tape/private__graph_conv_keras_model_4/graph_pool_8/Reshape_14:0\", shape=(245,), dtype=int32), values=Tensor(\"gradient_tape/private__graph_conv_keras_model_4/graph_pool_8/Reshape_13:0\", shape=(245, 64), dtype=float32), dense_shape=Tensor(\"gradient_tape/private__graph_conv_keras_model_4/graph_pool_8/Cast_4:0\", shape=(2,), dtype=int32))) to a dense Tensor of unknown shape. This may consume a large amount of memory.\n",
            "  \"shape. This may consume a large amount of memory.\" % value)\n",
            "/usr/local/lib/python3.7/dist-packages/tensorflow/python/framework/indexed_slices.py:450: UserWarning: Converting sparse IndexedSlices(IndexedSlices(indices=Tensor(\"gradient_tape/private__graph_conv_keras_model_4/graph_pool_8/Reshape_17:0\", shape=(1730,), dtype=int32), values=Tensor(\"gradient_tape/private__graph_conv_keras_model_4/graph_pool_8/Reshape_16:0\", shape=(1730, 64), dtype=float32), dense_shape=Tensor(\"gradient_tape/private__graph_conv_keras_model_4/graph_pool_8/Cast_5:0\", shape=(2,), dtype=int32))) to a dense Tensor of unknown shape. This may consume a large amount of memory.\n",
            "  \"shape. This may consume a large amount of memory.\" % value)\n",
            "/usr/local/lib/python3.7/dist-packages/tensorflow/python/framework/indexed_slices.py:450: UserWarning: Converting sparse IndexedSlices(IndexedSlices(indices=Tensor(\"gradient_tape/private__graph_conv_keras_model_4/graph_pool_8/Reshape_20:0\", shape=(1395,), dtype=int32), values=Tensor(\"gradient_tape/private__graph_conv_keras_model_4/graph_pool_8/Reshape_19:0\", shape=(1395, 64), dtype=float32), dense_shape=Tensor(\"gradient_tape/private__graph_conv_keras_model_4/graph_pool_8/Cast_6:0\", shape=(2,), dtype=int32))) to a dense Tensor of unknown shape. This may consume a large amount of memory.\n",
            "  \"shape. This may consume a large amount of memory.\" % value)\n",
            "/usr/local/lib/python3.7/dist-packages/tensorflow/python/framework/indexed_slices.py:450: UserWarning: Converting sparse IndexedSlices(IndexedSlices(indices=Tensor(\"gradient_tape/private__graph_conv_keras_model_4/graph_pool_9/Reshape_14:0\", shape=(None,), dtype=int32), values=Tensor(\"gradient_tape/private__graph_conv_keras_model_4/graph_pool_9/Reshape_13:0\", shape=(None, 64), dtype=float32), dense_shape=Tensor(\"gradient_tape/private__graph_conv_keras_model_4/graph_pool_9/Cast_4:0\", shape=(2,), dtype=int32))) to a dense Tensor of unknown shape. This may consume a large amount of memory.\n",
            "  \"shape. This may consume a large amount of memory.\" % value)\n",
            "/usr/local/lib/python3.7/dist-packages/tensorflow/python/framework/indexed_slices.py:450: UserWarning: Converting sparse IndexedSlices(IndexedSlices(indices=Tensor(\"gradient_tape/private__graph_conv_keras_model_4/graph_pool_9/Reshape_17:0\", shape=(None,), dtype=int32), values=Tensor(\"gradient_tape/private__graph_conv_keras_model_4/graph_pool_9/Reshape_16:0\", shape=(None, 64), dtype=float32), dense_shape=Tensor(\"gradient_tape/private__graph_conv_keras_model_4/graph_pool_9/Cast_5:0\", shape=(2,), dtype=int32))) to a dense Tensor of unknown shape. This may consume a large amount of memory.\n",
            "  \"shape. This may consume a large amount of memory.\" % value)\n",
            "/usr/local/lib/python3.7/dist-packages/tensorflow/python/framework/indexed_slices.py:450: UserWarning: Converting sparse IndexedSlices(IndexedSlices(indices=Tensor(\"gradient_tape/private__graph_conv_keras_model_4/graph_pool_9/Reshape_20:0\", shape=(None,), dtype=int32), values=Tensor(\"gradient_tape/private__graph_conv_keras_model_4/graph_pool_9/Reshape_19:0\", shape=(None, 64), dtype=float32), dense_shape=Tensor(\"gradient_tape/private__graph_conv_keras_model_4/graph_pool_9/Cast_6:0\", shape=(2,), dtype=int32))) to a dense Tensor of unknown shape. This may consume a large amount of memory.\n",
            "  \"shape. This may consume a large amount of memory.\" % value)\n",
            "/usr/local/lib/python3.7/dist-packages/tensorflow/python/framework/indexed_slices.py:450: UserWarning: Converting sparse IndexedSlices(IndexedSlices(indices=Tensor(\"gradient_tape/private__graph_conv_keras_model_4/graph_conv_9/Reshape_11:0\", shape=(None,), dtype=int32), values=Tensor(\"gradient_tape/private__graph_conv_keras_model_4/graph_conv_9/Reshape_10:0\", shape=(None, 64), dtype=float32), dense_shape=Tensor(\"gradient_tape/private__graph_conv_keras_model_4/graph_conv_9/Cast:0\", shape=(2,), dtype=int32))) to a dense Tensor of unknown shape. This may consume a large amount of memory.\n",
            "  \"shape. This may consume a large amount of memory.\" % value)\n",
            "/usr/local/lib/python3.7/dist-packages/tensorflow/python/framework/indexed_slices.py:450: UserWarning: Converting sparse IndexedSlices(IndexedSlices(indices=Tensor(\"gradient_tape/private__graph_conv_keras_model_4/graph_conv_9/Reshape_13:0\", shape=(None,), dtype=int32), values=Tensor(\"gradient_tape/private__graph_conv_keras_model_4/graph_conv_9/Reshape_12:0\", shape=(None, 64), dtype=float32), dense_shape=Tensor(\"gradient_tape/private__graph_conv_keras_model_4/graph_conv_9/Cast_1:0\", shape=(2,), dtype=int32))) to a dense Tensor of unknown shape. This may consume a large amount of memory.\n",
            "  \"shape. This may consume a large amount of memory.\" % value)\n",
            "/usr/local/lib/python3.7/dist-packages/tensorflow/python/framework/indexed_slices.py:450: UserWarning: Converting sparse IndexedSlices(IndexedSlices(indices=Tensor(\"gradient_tape/private__graph_conv_keras_model_4/graph_conv_9/Reshape_15:0\", shape=(None,), dtype=int32), values=Tensor(\"gradient_tape/private__graph_conv_keras_model_4/graph_conv_9/Reshape_14:0\", shape=(None, 64), dtype=float32), dense_shape=Tensor(\"gradient_tape/private__graph_conv_keras_model_4/graph_conv_9/Cast_2:0\", shape=(2,), dtype=int32))) to a dense Tensor of unknown shape. This may consume a large amount of memory.\n",
            "  \"shape. This may consume a large amount of memory.\" % value)\n",
            "/usr/local/lib/python3.7/dist-packages/tensorflow/python/framework/indexed_slices.py:450: UserWarning: Converting sparse IndexedSlices(IndexedSlices(indices=Tensor(\"gradient_tape/private__graph_conv_keras_model_4/graph_pool_8/Reshape_14:0\", shape=(None,), dtype=int32), values=Tensor(\"gradient_tape/private__graph_conv_keras_model_4/graph_pool_8/Reshape_13:0\", shape=(None, 64), dtype=float32), dense_shape=Tensor(\"gradient_tape/private__graph_conv_keras_model_4/graph_pool_8/Cast_4:0\", shape=(2,), dtype=int32))) to a dense Tensor of unknown shape. This may consume a large amount of memory.\n",
            "  \"shape. This may consume a large amount of memory.\" % value)\n",
            "/usr/local/lib/python3.7/dist-packages/tensorflow/python/framework/indexed_slices.py:450: UserWarning: Converting sparse IndexedSlices(IndexedSlices(indices=Tensor(\"gradient_tape/private__graph_conv_keras_model_4/graph_pool_8/Reshape_17:0\", shape=(None,), dtype=int32), values=Tensor(\"gradient_tape/private__graph_conv_keras_model_4/graph_pool_8/Reshape_16:0\", shape=(None, 64), dtype=float32), dense_shape=Tensor(\"gradient_tape/private__graph_conv_keras_model_4/graph_pool_8/Cast_5:0\", shape=(2,), dtype=int32))) to a dense Tensor of unknown shape. This may consume a large amount of memory.\n",
            "  \"shape. This may consume a large amount of memory.\" % value)\n",
            "/usr/local/lib/python3.7/dist-packages/tensorflow/python/framework/indexed_slices.py:450: UserWarning: Converting sparse IndexedSlices(IndexedSlices(indices=Tensor(\"gradient_tape/private__graph_conv_keras_model_4/graph_pool_8/Reshape_20:0\", shape=(None,), dtype=int32), values=Tensor(\"gradient_tape/private__graph_conv_keras_model_4/graph_pool_8/Reshape_19:0\", shape=(None, 64), dtype=float32), dense_shape=Tensor(\"gradient_tape/private__graph_conv_keras_model_4/graph_pool_8/Cast_6:0\", shape=(2,), dtype=int32))) to a dense Tensor of unknown shape. This may consume a large amount of memory.\n",
            "  \"shape. This may consume a large amount of memory.\" % value)\n",
            "/usr/local/lib/python3.7/dist-packages/tensorflow/python/framework/indexed_slices.py:450: UserWarning: Converting sparse IndexedSlices(IndexedSlices(indices=Tensor(\"gradient_tape/private__graph_conv_keras_model_4/graph_pool_9/Reshape_23:0\", shape=(None,), dtype=int32), values=Tensor(\"gradient_tape/private__graph_conv_keras_model_4/graph_pool_9/Reshape_22:0\", shape=(None, 64), dtype=float32), dense_shape=Tensor(\"gradient_tape/private__graph_conv_keras_model_4/graph_pool_9/Cast_7:0\", shape=(2,), dtype=int32))) to a dense Tensor of unknown shape. This may consume a large amount of memory.\n",
            "  \"shape. This may consume a large amount of memory.\" % value)\n",
            "/usr/local/lib/python3.7/dist-packages/tensorflow/python/framework/indexed_slices.py:450: UserWarning: Converting sparse IndexedSlices(IndexedSlices(indices=Tensor(\"gradient_tape/private__graph_conv_keras_model_4/graph_conv_9/Reshape_17:0\", shape=(None,), dtype=int32), values=Tensor(\"gradient_tape/private__graph_conv_keras_model_4/graph_conv_9/Reshape_16:0\", shape=(None, 64), dtype=float32), dense_shape=Tensor(\"gradient_tape/private__graph_conv_keras_model_4/graph_conv_9/Cast_3:0\", shape=(2,), dtype=int32))) to a dense Tensor of unknown shape. This may consume a large amount of memory.\n",
            "  \"shape. This may consume a large amount of memory.\" % value)\n",
            "/usr/local/lib/python3.7/dist-packages/tensorflow/python/framework/indexed_slices.py:450: UserWarning: Converting sparse IndexedSlices(IndexedSlices(indices=Tensor(\"gradient_tape/private__graph_conv_keras_model_4/graph_pool_8/Reshape_23:0\", shape=(None,), dtype=int32), values=Tensor(\"gradient_tape/private__graph_conv_keras_model_4/graph_pool_8/Reshape_22:0\", shape=(None, 64), dtype=float32), dense_shape=Tensor(\"gradient_tape/private__graph_conv_keras_model_4/graph_pool_8/Cast_7:0\", shape=(2,), dtype=int32))) to a dense Tensor of unknown shape. This may consume a large amount of memory.\n",
            "  \"shape. This may consume a large amount of memory.\" % value)\n"
          ]
        },
        {
          "output_type": "stream",
          "name": "stdout",
          "text": [
            "CPU times: user 4min 15s, sys: 19.9 s, total: 4min 34s\n",
            "Wall time: 3min 23s\n",
            "evaluating...\n",
            "graphconv Train scores {'mean-roc_auc_score': 0.9289569402849571}\n",
            "graphconv Validation scores {'mean-roc_auc_score': 0.7570871035897755}\n",
            "graphconv Test scores {'mean-roc_auc_score': 0.8036689980592765}\n"
          ]
        }
      ]
    },
    {
      "cell_type": "code",
      "metadata": {
        "colab": {
          "base_uri": "https://localhost:8080/",
          "height": 472
        },
        "id": "DEY8Xm2XCer1",
        "outputId": "2d01e7e9-0ed8-49c9-f1de-b930c82c31fc"
      },
      "source": [
        "res = {'tf-test': test_scores_tf['mean-roc_auc_score'],\n",
        "       'tf-valid': valid_scores_tf['mean-roc_auc_score'],\n",
        "       'graphconv-test': test_scores_gc['mean-roc_auc_score'],\n",
        "       'graphconv-valid': valid_scores_gc['mean-roc_auc_score']}\n",
        "plot_muv_scores(res)\n"
      ],
      "execution_count": 35,
      "outputs": [
        {
          "output_type": "display_data",
          "data": {
            "image/png": "[encoded data removed]",
            "text/plain": [
              "<Figure size 640x480 with 1 Axes>"
            ]
          },
          "metadata": {}
        }
      ]
    }
  ]
}